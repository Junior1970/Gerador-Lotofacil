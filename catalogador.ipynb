{
  "nbformat": 4,
  "nbformat_minor": 0,
  "metadata": {
    "colab": {
      "provenance": [],
      "authorship_tag": "ABX9TyMW0R7h1dQB61dqUzsjpkpM",
      "include_colab_link": true
    },
    "kernelspec": {
      "name": "python3",
      "display_name": "Python 3"
    },
    "language_info": {
      "name": "python"
    }
  },
  "cells": [
    {
      "cell_type": "markdown",
      "metadata": {
        "id": "view-in-github",
        "colab_type": "text"
      },
      "source": [
        "<a href=\"https://colab.research.google.com/github/Junior1970/Gerador-Lotofacil/blob/main/catalogador.ipynb\" target=\"_parent\"><img src=\"https://colab.research.google.com/assets/colab-badge.svg\" alt=\"Open In Colab\"/></a>"
      ]
    },
    {
      "cell_type": "code",
      "execution_count": 43,
      "metadata": {
        "id": "pf4G8mVo2W0h"
      },
      "outputs": [],
      "source": [
        "# Importar as Bibliotecas\n",
        "import requests\n",
        "from bs4 import BeautifulSoup\n",
        "\n"
      ]
    },
    {
      "cell_type": "code",
      "source": [
        "documento = requests.get(\"https://kitblaze.com/double/?visitante=home\")\n",
        "\n",
        "html_doc = BeautifulSoup(documento.text, 'html.parser')\n",
        "ultimos_giros = html_doc.findAll('div',{'class':'giro-img'})\n",
        "dict_cores = {1:'V',2:'V',3:'V',4:'V',5:'V',6:'V',7:'V',8:'P',9:'P',10:'P',11:'P',12:'P',13:'P',14:'P',0:'B',}\n",
        "cores = []\n",
        "numeros = []\n",
        "\n",
        "def inicializar_dados():\n",
        "  for giro in ultimos_giros:\n",
        "    numero = giro.find('span')\n",
        "    if numero:\n",
        "      numero_atual = int(numero.text)\n",
        "      cor = dict_cores[numero_atual]\n",
        "      numeros.append(numero_atual)\n",
        "      cores.append(cor)\n",
        "    else:\n",
        "      cores.append('B')\n",
        "      numeros.append(0)\n",
        "      numero.reverse()\n",
        "    \n",
        "  print('-'*100)\n",
        "  print(\"ultimos giros Blaze Double\".center(100))\n",
        "  print('-'*100)\n",
        "  print(f\"Branco......: {cores.count('B')}%\")\n",
        "  print(f\"Preto.......: {cores.count('P')}%\")\n",
        "  print(f\"Vermelho....: {cores.count('V')}%\")\n",
        "  print('-'*100)\n",
        "  \n",
        "\n",
        "def catalogar_estrategia_numeros():\n",
        "  for num in range(5,8):\n",
        "\n",
        "    #Estrategia para o numero 5\n",
        "    win=0\n",
        "    g1=0\n",
        "    g2=0\n",
        "    loss=0\n",
        "\n",
        "    for posicao,numero in enumerate(numeros):\n",
        "      if numero == num:\n",
        "        try:\n",
        "          if dict_cores[numeros[posicao+(num-1)]] == 'V':\n",
        "            win+=1\n",
        "          elif dict_cores[numeros[posicao+num]] == 'V':\n",
        "            g1+=1\n",
        "          elif dict_cores[numeros[posicao+(num+1)]] == 'V':\n",
        "            g2+=1\n",
        "          else:\n",
        "            loss+=1\n",
        "        except:\n",
        "          pass\n",
        "\n",
        "    print('-'*100)\n",
        "    print(f\"Estrategia para o numero {num}\")\n",
        "    print('-'*100)\n",
        "    print(f\"Win-> {win} G1->{g1} G2-> {g2} Loss-> {loss}\")\n",
        "\n",
        "inicializar_dados()\n",
        "catalogar_estrategia_numeros()\n"
      ],
      "metadata": {
        "colab": {
          "base_uri": "https://localhost:8080/"
        },
        "id": "dPANCTpB24b7",
        "outputId": "bd3b3d66-83cd-49ca-9b15-2cf51c2b27b1"
      },
      "execution_count": 146,
      "outputs": [
        {
          "output_type": "stream",
          "name": "stdout",
          "text": [
            "----------------------------------------------------------------------------------------------------\n",
            "                                     ultimos giros Blaze Double                                     \n",
            "----------------------------------------------------------------------------------------------------\n",
            "Branco......: 6%\n",
            "Preto.......: 50%\n",
            "Vermelho....: 44%\n",
            "----------------------------------------------------------------------------------------------------\n",
            "----------------------------------------------------------------------------------------------------\n",
            "Estrategia para o numero 5\n",
            "----------------------------------------------------------------------------------------------------\n",
            "Win-> 2 G1->2 G2-> 1 Loss-> 3\n",
            "----------------------------------------------------------------------------------------------------\n",
            "Estrategia para o numero 6\n",
            "----------------------------------------------------------------------------------------------------\n",
            "Win-> 0 G1->2 G2-> 1 Loss-> 2\n",
            "----------------------------------------------------------------------------------------------------\n",
            "Estrategia para o numero 7\n",
            "----------------------------------------------------------------------------------------------------\n",
            "Win-> 4 G1->0 G2-> 0 Loss-> 1\n"
          ]
        }
      ]
    },
    {
      "cell_type": "code",
      "source": [],
      "metadata": {
        "id": "OfPsOJcD9J3r"
      },
      "execution_count": null,
      "outputs": []
    }
  ]
}